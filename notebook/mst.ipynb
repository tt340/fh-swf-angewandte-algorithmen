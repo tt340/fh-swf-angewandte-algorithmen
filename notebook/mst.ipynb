{
 "cells": [
  {
   "cell_type": "code",
   "execution_count": null,
   "metadata": {},
   "outputs": [],
   "source": [
    "%run ./base.ipynb\n",
    "import networkx as nx\n",
    "import matplotlib.pyplot as plt\n",
    "\n",
    "def print_mst(graph, mst):\n",
    "    pos = nx.spring_layout(graph, seed=7)  # Positionen der Knoten für die Visualisierung\n",
    "\n",
    "# Zeichne den gesamten Graphen\n",
    "    nx.draw(graph, pos,with_labels=True, node_color=\"lightblue\", node_size=500, font_size=10, font_weight=\"bold\")\n",
    "    nx.draw_networkx_edge_labels(graph,pos,  edge_labels={(u, v): f\"{data['weight']}\" for u, v, data in graph.edges(data=True)})\n",
    "\n",
    "    # Zeichne die MST-Kanten fett und in einer anderen Farbe\n",
    "    nx.draw_networkx_edges(mst, pos, edge_color=\"red\", width=2.5)\n",
    "\n",
    "    plt.show()"
   ]
  },
  {
   "cell_type": "markdown",
   "metadata": {},
   "source": [
    "# Kruskals Algorithm"
   ]
  },
  {
   "cell_type": "code",
   "execution_count": null,
   "metadata": {},
   "outputs": [],
   "source": [
    "\n",
    "def kruskal_mst(graph):\n",
    "    # Erstellen eines leeren Graphen für den MST\n",
    "    mst = nx.Graph()\n",
    "    mst.add_nodes_from(graph.nodes)\n",
    "\n",
    "    # Kanten des Graphen nach Gewicht sortieren\n",
    "    sorted_edges = sorted(graph.edges(data=True), key=lambda x: x[2]['weight'])\n",
    "\n",
    "    # Initialisiere eine Union-Find-Struktur\n",
    "    uf = {node: node for node in graph.nodes}\n",
    "\n",
    "    def find(node):\n",
    "        # Finde das Set, zu dem der Knoten gehört\n",
    "        if uf[node] != node:\n",
    "            uf[node] = find(uf[node])  # Path Compression\n",
    "        return uf[node]\n",
    "\n",
    "    def union(node1, node2):\n",
    "        # Vereinigt zwei Sets\n",
    "        root1 = find(node1)\n",
    "        root2 = find(node2)\n",
    "        if root1 != root2:\n",
    "            uf[root2] = root1\n",
    "\n",
    "    # Durchlaufe die sortierten Kanten und füge sie dem MST hinzu\n",
    "    for u, v, data in sorted_edges:\n",
    "        if find(u) != find(v):  # Vermeidung von Zyklen\n",
    "            mst.add_edge(u, v, weight=data['weight'])\n",
    "            union(u, v)\n",
    "\n",
    "            print_mst(G,mst)\n",
    "\n",
    "    return mst"
   ]
  },
  {
   "cell_type": "code",
   "execution_count": null,
   "metadata": {},
   "outputs": [],
   "source": [
    "mst = kruskal_mst(G)\n"
   ]
  },
  {
   "cell_type": "markdown",
   "metadata": {},
   "source": [
    "# Prim'schen Algorithmus"
   ]
  },
  {
   "cell_type": "code",
   "execution_count": null,
   "metadata": {},
   "outputs": [],
   "source": [
    "import heapq\n",
    "\n",
    "def prim_mst(graph, start_node=1):\n",
    "    # Erstellen eines leeren Graphen für den MST\n",
    "    mst = nx.Graph()\n",
    "    mst.add_node(start_node)\n",
    "\n",
    "    # Min-Heap für die Kanten mit (Kosten, Knoten1, Knoten2)\n",
    "    edges = [(data['weight'], start_node, v) for v, data in graph[start_node].items()]\n",
    "    heapq.heapify(edges)\n",
    "\n",
    "    # Knoten-Menge für besuchte Knoten\n",
    "    visited = set([start_node])\n",
    "\n",
    "    while edges and len(mst.nodes) < len(graph.nodes):\n",
    "        # Wähle die Kante mit den geringsten Kosten\n",
    "        weight, u, v = heapq.heappop(edges)\n",
    "\n",
    "        if v not in visited:\n",
    "            # Kante (u, v) dem MST hinzufügen\n",
    "            mst.add_edge(u, v, weight=weight)\n",
    "            visited.add(v)\n",
    "\n",
    "            print_mst(G, mst)\n",
    "\n",
    "            # Neue Kanten von v in die Warteschlange einfügen\n",
    "            for neighbor, data in graph[v].items():\n",
    "                if neighbor not in visited:\n",
    "                    heapq.heappush(edges, (data['weight'], v, neighbor))\n",
    "\n",
    "    return mst"
   ]
  },
  {
   "cell_type": "code",
   "execution_count": null,
   "metadata": {},
   "outputs": [],
   "source": [
    "mst_prim = prim_mst(G)\n"
   ]
  }
 ],
 "metadata": {
  "kernelspec": {
   "display_name": "Python 3",
   "language": "python",
   "name": "python3"
  },
  "language_info": {
   "codemirror_mode": {
    "name": "ipython",
    "version": 3
   },
   "file_extension": ".py",
   "mimetype": "text/x-python",
   "name": "python",
   "nbconvert_exporter": "python",
   "pygments_lexer": "ipython3",
   "version": "3.12.4"
  }
 },
 "nbformat": 4,
 "nbformat_minor": 2
}
