{
 "cells": [
  {
   "cell_type": "code",
   "execution_count": null,
   "metadata": {},
   "outputs": [],
   "source": [
    "graph_edge_list = '''\n",
    "    1 2 3\n",
    "    1 3 2\n",
    "    2 4 2\n",
    "    2 5 3\n",
    "    3 4 5\n",
    "    3 6 6\n",
    "    4 7 1\n",
    "    4 6 4\n",
    "    5 7 2\n",
    "'''"
   ]
  },
  {
   "cell_type": "code",
   "execution_count": null,
   "metadata": {
    "dotnet_interactive": {
     "language": "csharp"
    },
    "polyglot_notebook": {
     "kernelName": "csharp"
    }
   },
   "outputs": [],
   "source": [
    "import networkx as nx\n",
    "import matplotlib.pyplot as plt\n",
    "\n",
    "def initGraph(graph_edge_list, directed=False):\n",
    "    G = nx.DiGraph()\n",
    "\n",
    "    for line in graph_edge_list.split('\\n'):\n",
    "        if line:\n",
    "            u, v, weight = line.split()\n",
    "            u = int(u)\n",
    "            v = int(v)\n",
    "            G.add_edge(u, v, weight=int(weight))\n",
    "            if not directed:\n",
    "                G.add_edge(v, u, weight=int(weight))\n",
    "\n",
    "    return G\n",
    "\n",
    "G = initGraph(graph_edge_list)\n",
    "\n",
    "class GraphVisualizer:\n",
    "    def __init__(self, graph, edge_label_attr=None, seed=None):\n",
    "        \"\"\"\n",
    "        Initializes the graph visualizer with default colors.\n",
    "        \"\"\"\n",
    "        self.graph = graph\n",
    "        self.edge_label_attr = edge_label_attr\n",
    "        self.pos = nx.spring_layout(graph, seed=seed)\n",
    "        self.node_colors = {node: \"lightblue\" for node in graph.nodes()}\n",
    "        self.edge_colors = {edge: \"black\" for edge in graph.edges()}\n",
    "\n",
    "    def draw_graph(self):\n",
    "        \"\"\"\n",
    "        Draws the graph with current node and edge colors.\n",
    "        \"\"\"\n",
    "        node_color_list = [self.node_colors[node] for node in self.graph.nodes()]\n",
    "        edge_color_list = [\n",
    "            self.edge_colors[(min(u, v), max(u, v))] for u, v in self.graph.edges()\n",
    "        ]\n",
    "        plt.clf()  # Clear the plot before redrawing\n",
    "        nx.draw(\n",
    "            self.graph,\n",
    "            self.pos,\n",
    "            node_color=node_color_list,\n",
    "            edge_color=edge_color_list,\n",
    "            with_labels=True\n",
    "        )\n",
    "\n",
    "        if self.edge_label_attr:\n",
    "            edge_labels = {\n",
    "                (u, v): data[self.edge_label_attr]\n",
    "                for u, v, data in self.graph.edges(data=True)\n",
    "                if self.edge_label_attr in data\n",
    "            }\n",
    "            nx.draw_networkx_edge_labels(self.graph, self.pos, edge_labels=edge_labels)\n",
    "\n",
    "        plt.pause(0.1)  # Pause to update the plot dynamically\n",
    "\n",
    "    def color_node(self, node, color=\"red\"):\n",
    "        \"\"\"\n",
    "        Updates the color of a specific node and redraws the graph.\n",
    "        \"\"\"\n",
    "        if node in self.graph.nodes():\n",
    "            self.node_colors[node] = color\n",
    "        self.draw_graph()\n",
    "\n",
    "    def color_edge(self, edge, color=\"red\"):\n",
    "        \"\"\"\n",
    "        Updates the color of a specific edge and redraws the graph.\n",
    "        \"\"\"\n",
    "        if edge in self.graph.edges() or (edge[1], edge[0]) in self.graph.edges():\n",
    "            self.edge_colors[edge] = color\n",
    "        self.draw_graph()\n",
    "\n",
    "# Initialize the visualizer\n",
    "visualizer = GraphVisualizer(G, edge_label_attr=\"weight\", seed=53)\n",
    "visualizer.draw_graph()"
   ]
  },
  {
   "cell_type": "code",
   "execution_count": null,
   "metadata": {
    "dotnet_interactive": {
     "language": "csharp"
    },
    "polyglot_notebook": {
     "kernelName": "csharp"
    }
   },
   "outputs": [],
   "source": []
  }
 ],
 "metadata": {
  "kernelspec": {
   "display_name": "Python 3",
   "language": "python",
   "name": "python3"
  },
  "language_info": {
   "codemirror_mode": {
    "name": "ipython",
    "version": 3
   },
   "file_extension": ".py",
   "mimetype": "text/x-python",
   "name": "python",
   "nbconvert_exporter": "python",
   "pygments_lexer": "ipython3",
   "version": "3.12.4"
  },
  "polyglot_notebook": {
   "kernelInfo": {
    "defaultKernelName": "csharp",
    "items": [
     {
      "aliases": [],
      "name": "csharp"
     }
    ]
   }
  }
 },
 "nbformat": 4,
 "nbformat_minor": 2
}
